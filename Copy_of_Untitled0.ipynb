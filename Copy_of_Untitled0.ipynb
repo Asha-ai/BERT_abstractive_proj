{
  "nbformat": 4,
  "nbformat_minor": 0,
  "metadata": {
    "colab": {
      "name": "Copy of Untitled0.ipynb",
      "provenance": [],
      "include_colab_link": true
    },
    "kernelspec": {
      "display_name": "Python 3",
      "language": "python",
      "name": "python3"
    },
    "language_info": {
      "codemirror_mode": {
        "name": "ipython",
        "version": 3
      },
      "file_extension": ".py",
      "mimetype": "text/x-python",
      "name": "python",
      "nbconvert_exporter": "python",
      "pygments_lexer": "ipython3",
      "version": "3.7.2"
    }
  },
  "cells": [
    {
      "cell_type": "markdown",
      "metadata": {
        "id": "view-in-github",
        "colab_type": "text"
      },
      "source": [
        "<a href=\"https://colab.research.google.com/github/Asha-ai/BERT_abstractive_proj/blob/master/Copy_of_Untitled0.ipynb\" target=\"_parent\"><img src=\"https://colab.research.google.com/assets/colab-badge.svg\" alt=\"Open In Colab\"/></a>"
      ]
    },
    {
      "cell_type": "code",
      "metadata": {
        "id": "kdZVWI5HRNhB",
        "colab_type": "code",
        "colab": {
          "base_uri": "https://localhost:8080/",
          "height": 34
        },
        "outputId": "d7e3abb1-92b1-4acc-f709-de3d0586a146"
      },
      "source": [
        "pip install -r requirements.txt"
      ],
      "execution_count": 2,
      "outputs": [
        {
          "output_type": "stream",
          "text": [
            "\u001b[31mERROR: Could not open requirements file: [Errno 2] No such file or directory: 'requirements.txt'\u001b[0m\n"
          ],
          "name": "stdout"
        }
      ]
    },
    {
      "cell_type": "code",
      "metadata": {
        "id": "Ntx3ExHYRNhU",
        "colab_type": "code",
        "colab": {}
      },
      "source": [
        "#reads the data.[train|dev|test].tsv files and generates 3 TFRecord data files train.tf_record,\n",
        "#eval.tf_record, and test.tf_record. These files are used for training.\n",
        "\n",
        "python prepare_data.py"
      ],
      "execution_count": null,
      "outputs": []
    },
    {
      "cell_type": "code",
      "metadata": {
        "id": "Uub4S43WRNhc",
        "colab_type": "code",
        "colab": {}
      },
      "source": [
        "# Training\n",
        "# starts the training.\n",
        "python main.py --run_mode=train_and_evaluate"
      ],
      "execution_count": null,
      "outputs": []
    },
    {
      "cell_type": "code",
      "metadata": {
        "id": "WPZ5FDkRRNhj",
        "colab_type": "code",
        "colab": {}
      },
      "source": [
        "#Testing\n",
        "#can be used to calculate BLEU and ROUGE scores on the test data. It will print the results into \n",
        "#the console and write the three files test-inputs.txt, test-predictions.txt, test-targets.txt in the /outputs folder. These files contain the sentences in a human readable format.\n",
        "\n",
        "python main.py --run_mode=test"
      ],
      "execution_count": null,
      "outputs": []
    },
    {
      "cell_type": "code",
      "metadata": {
        "id": "-rJdeLZARNhq",
        "colab_type": "code",
        "colab": {}
      },
      "source": [
        "#Predicting\n",
        "#takes the content from the /data/predict.txt file and creates two files in the output-folder:\n",
        "#predict-inputs.txt and predict-predictions.txt.\n",
        "\n",
        "python main.py --run_mode=predict"
      ],
      "execution_count": null,
      "outputs": []
    },
    {
      "cell_type": "code",
      "metadata": {
        "id": "xc9N04crRNhx",
        "colab_type": "code",
        "colab": {}
      },
      "source": [
        ""
      ],
      "execution_count": null,
      "outputs": []
    },
    {
      "cell_type": "code",
      "metadata": {
        "colab_type": "code",
        "id": "50R2onEC06e6",
        "colab": {
          "base_uri": "https://localhost:8080/",
          "height": 34
        },
        "outputId": "17a1aaba-bf54-46b8-bfb3-75a07fa02a95"
      },
      "source": [
        "print(\"Hello\")"
      ],
      "execution_count": null,
      "outputs": [
        {
          "output_type": "stream",
          "text": [
            "Hello\n"
          ],
          "name": "stdout"
        }
      ]
    }
  ]
}