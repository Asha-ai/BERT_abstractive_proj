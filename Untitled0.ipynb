{
  "nbformat": 4,
  "nbformat_minor": 0,
  "metadata": {
    "colab": {
      "name": "Untitled0.ipynb",
      "provenance": [],
      "include_colab_link": true
    },
    "kernelspec": {
      "display_name": "Python 3",
      "language": "python",
      "name": "python3"
    },
    "language_info": {
      "codemirror_mode": {
        "name": "ipython",
        "version": 3
      },
      "file_extension": ".py",
      "mimetype": "text/x-python",
      "name": "python",
      "nbconvert_exporter": "python",
      "pygments_lexer": "ipython3",
      "version": "3.7.2"
    }
  },
  "cells": [
    {
      "cell_type": "markdown",
      "metadata": {
        "id": "view-in-github",
        "colab_type": "text"
      },
      "source": [
        "<a href=\"https://colab.research.google.com/github/Asha-ai/BERT_abstractive_proj/blob/master/Untitled0.ipynb\" target=\"_parent\"><img src=\"https://colab.research.google.com/assets/colab-badge.svg\" alt=\"Open In Colab\"/></a>"
      ]
    },
    {
      "cell_type": "code",
      "metadata": {
        "id": "xxQy3Q0QQ6di",
        "colab_type": "code",
        "colab": {},
        "outputId": "2687a02d-edae-4d41-910c-074c1ff08d26"
      },
      "source": [
        "pip insatll -r requirements.txt"
      ],
      "execution_count": null,
      "outputs": [
        {
          "output_type": "stream",
          "text": [
            "\n",
            "The following command must be run outside of the IPython shell:\n",
            "\n",
            "    $ pip insatll -r requirements.txt\n",
            "\n",
            "The Python package manager (pip) can only be used from outside of IPython.\n",
            "Please reissue the `pip` command in a separate terminal or command prompt.\n",
            "\n",
            "See the Python documentation for more information on how to install packages:\n",
            "\n",
            "    https://docs.python.org/3/installing/\n"
          ],
          "name": "stdout"
        }
      ]
    },
    {
      "cell_type": "code",
      "metadata": {
        "id": "Huh8kCb5Q6du",
        "colab_type": "code",
        "colab": {}
      },
      "source": [
        "#reads the data.[train|dev|test].tsv files and generates 3 TFRecord data files train.tf_record,\n",
        "#eval.tf_record, and test.tf_record. These files are used for training.\n",
        "\n",
        "python prepare_data.py"
      ],
      "execution_count": null,
      "outputs": []
    },
    {
      "cell_type": "code",
      "metadata": {
        "id": "GM7TbwJiQ6d0",
        "colab_type": "code",
        "colab": {}
      },
      "source": [
        "# Training\n",
        "# starts the training.\n",
        "python main.py --run_mode=train_and_evaluate"
      ],
      "execution_count": null,
      "outputs": []
    },
    {
      "cell_type": "code",
      "metadata": {
        "id": "bwa0yiwlQ6d6",
        "colab_type": "code",
        "colab": {}
      },
      "source": [
        "#Testing\n",
        "#can be used to calculate BLEU and ROUGE scores on the test data. It will print the results into \n",
        "#the console and write the three files test-inputs.txt, test-predictions.txt, test-targets.txt in the /outputs folder. These files contain the sentences in a human readable format.\n",
        "\n",
        "python main.py --run_mode=test"
      ],
      "execution_count": null,
      "outputs": []
    },
    {
      "cell_type": "code",
      "metadata": {
        "id": "F18NU2GHQ6eB",
        "colab_type": "code",
        "colab": {}
      },
      "source": [
        "#Predicting\n",
        "#takes the content from the /data/predict.txt file and creates two files in the output-folder:\n",
        "#predict-inputs.txt and predict-predictions.txt.\n",
        "\n",
        "python main.py --run_mode=predict"
      ],
      "execution_count": null,
      "outputs": []
    },
    {
      "cell_type": "code",
      "metadata": {
        "id": "CPyZpqCBQ6eH",
        "colab_type": "code",
        "colab": {}
      },
      "source": [
        ""
      ],
      "execution_count": null,
      "outputs": []
    },
    {
      "cell_type": "code",
      "metadata": {
        "colab_type": "code",
        "id": "50R2onEC06e6",
        "colab": {
          "base_uri": "https://localhost:8080/",
          "height": 34
        },
        "outputId": "17a1aaba-bf54-46b8-bfb3-75a07fa02a95"
      },
      "source": [
        "print(\"Hello\")"
      ],
      "execution_count": null,
      "outputs": [
        {
          "output_type": "stream",
          "text": [
            "Hello\n"
          ],
          "name": "stdout"
        }
      ]
    }
  ]
}